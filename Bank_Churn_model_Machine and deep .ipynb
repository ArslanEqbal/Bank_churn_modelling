{
 "cells": [
  {
   "cell_type": "code",
   "execution_count": 1,
   "metadata": {},
   "outputs": [],
   "source": [
    "import numpy as np\n",
    "import pandas as pd\n",
    "import matplotlib.pyplot as plt\n",
    "%matplotlib inline\n",
    "import seaborn as sns\n",
    "import math \n"
   ]
  },
  {
   "cell_type": "code",
   "execution_count": 2,
   "metadata": {},
   "outputs": [],
   "source": [
    "df = pd.read_csv(\"churn_modelling.csv\")"
   ]
  },
  {
   "cell_type": "code",
   "execution_count": 3,
   "metadata": {},
   "outputs": [
    {
     "data": {
      "text/html": [
       "<div>\n",
       "<style scoped>\n",
       "    .dataframe tbody tr th:only-of-type {\n",
       "        vertical-align: middle;\n",
       "    }\n",
       "\n",
       "    .dataframe tbody tr th {\n",
       "        vertical-align: top;\n",
       "    }\n",
       "\n",
       "    .dataframe thead th {\n",
       "        text-align: right;\n",
       "    }\n",
       "</style>\n",
       "<table border=\"1\" class=\"dataframe\">\n",
       "  <thead>\n",
       "    <tr style=\"text-align: right;\">\n",
       "      <th></th>\n",
       "      <th>RowNumber</th>\n",
       "      <th>CustomerId</th>\n",
       "      <th>Surname</th>\n",
       "      <th>CreditScore</th>\n",
       "      <th>Geography</th>\n",
       "      <th>Gender</th>\n",
       "      <th>Age</th>\n",
       "      <th>Tenure</th>\n",
       "      <th>Balance</th>\n",
       "      <th>NumOfProducts</th>\n",
       "      <th>HasCrCard</th>\n",
       "      <th>IsActiveMember</th>\n",
       "      <th>EstimatedSalary</th>\n",
       "      <th>Exited</th>\n",
       "    </tr>\n",
       "  </thead>\n",
       "  <tbody>\n",
       "    <tr>\n",
       "      <th>0</th>\n",
       "      <td>1</td>\n",
       "      <td>15634602</td>\n",
       "      <td>Hargrave</td>\n",
       "      <td>619</td>\n",
       "      <td>France</td>\n",
       "      <td>Female</td>\n",
       "      <td>42</td>\n",
       "      <td>2</td>\n",
       "      <td>0.00</td>\n",
       "      <td>1</td>\n",
       "      <td>1</td>\n",
       "      <td>1</td>\n",
       "      <td>101348.88</td>\n",
       "      <td>1</td>\n",
       "    </tr>\n",
       "    <tr>\n",
       "      <th>1</th>\n",
       "      <td>2</td>\n",
       "      <td>15647311</td>\n",
       "      <td>Hill</td>\n",
       "      <td>608</td>\n",
       "      <td>Spain</td>\n",
       "      <td>Female</td>\n",
       "      <td>41</td>\n",
       "      <td>1</td>\n",
       "      <td>83807.86</td>\n",
       "      <td>1</td>\n",
       "      <td>0</td>\n",
       "      <td>1</td>\n",
       "      <td>112542.58</td>\n",
       "      <td>0</td>\n",
       "    </tr>\n",
       "    <tr>\n",
       "      <th>2</th>\n",
       "      <td>3</td>\n",
       "      <td>15619304</td>\n",
       "      <td>Onio</td>\n",
       "      <td>502</td>\n",
       "      <td>France</td>\n",
       "      <td>Female</td>\n",
       "      <td>42</td>\n",
       "      <td>8</td>\n",
       "      <td>159660.80</td>\n",
       "      <td>3</td>\n",
       "      <td>1</td>\n",
       "      <td>0</td>\n",
       "      <td>113931.57</td>\n",
       "      <td>1</td>\n",
       "    </tr>\n",
       "    <tr>\n",
       "      <th>3</th>\n",
       "      <td>4</td>\n",
       "      <td>15701354</td>\n",
       "      <td>Boni</td>\n",
       "      <td>699</td>\n",
       "      <td>France</td>\n",
       "      <td>Female</td>\n",
       "      <td>39</td>\n",
       "      <td>1</td>\n",
       "      <td>0.00</td>\n",
       "      <td>2</td>\n",
       "      <td>0</td>\n",
       "      <td>0</td>\n",
       "      <td>93826.63</td>\n",
       "      <td>0</td>\n",
       "    </tr>\n",
       "    <tr>\n",
       "      <th>4</th>\n",
       "      <td>5</td>\n",
       "      <td>15737888</td>\n",
       "      <td>Mitchell</td>\n",
       "      <td>850</td>\n",
       "      <td>Spain</td>\n",
       "      <td>Female</td>\n",
       "      <td>43</td>\n",
       "      <td>2</td>\n",
       "      <td>125510.82</td>\n",
       "      <td>1</td>\n",
       "      <td>1</td>\n",
       "      <td>1</td>\n",
       "      <td>79084.10</td>\n",
       "      <td>0</td>\n",
       "    </tr>\n",
       "  </tbody>\n",
       "</table>\n",
       "</div>"
      ],
      "text/plain": [
       "   RowNumber  CustomerId   Surname  CreditScore Geography  Gender  Age  \\\n",
       "0          1    15634602  Hargrave          619    France  Female   42   \n",
       "1          2    15647311      Hill          608     Spain  Female   41   \n",
       "2          3    15619304      Onio          502    France  Female   42   \n",
       "3          4    15701354      Boni          699    France  Female   39   \n",
       "4          5    15737888  Mitchell          850     Spain  Female   43   \n",
       "\n",
       "   Tenure    Balance  NumOfProducts  HasCrCard  IsActiveMember  \\\n",
       "0       2       0.00              1          1               1   \n",
       "1       1   83807.86              1          0               1   \n",
       "2       8  159660.80              3          1               0   \n",
       "3       1       0.00              2          0               0   \n",
       "4       2  125510.82              1          1               1   \n",
       "\n",
       "   EstimatedSalary  Exited  \n",
       "0        101348.88       1  \n",
       "1        112542.58       0  \n",
       "2        113931.57       1  \n",
       "3         93826.63       0  \n",
       "4         79084.10       0  "
      ]
     },
     "execution_count": 3,
     "metadata": {},
     "output_type": "execute_result"
    }
   ],
   "source": [
    "df.head()"
   ]
  },
  {
   "cell_type": "code",
   "execution_count": 4,
   "metadata": {},
   "outputs": [
    {
     "data": {
      "text/html": [
       "<div>\n",
       "<style scoped>\n",
       "    .dataframe tbody tr th:only-of-type {\n",
       "        vertical-align: middle;\n",
       "    }\n",
       "\n",
       "    .dataframe tbody tr th {\n",
       "        vertical-align: top;\n",
       "    }\n",
       "\n",
       "    .dataframe thead th {\n",
       "        text-align: right;\n",
       "    }\n",
       "</style>\n",
       "<table border=\"1\" class=\"dataframe\">\n",
       "  <thead>\n",
       "    <tr style=\"text-align: right;\">\n",
       "      <th></th>\n",
       "      <th>RowNumber</th>\n",
       "      <th>CustomerId</th>\n",
       "      <th>CreditScore</th>\n",
       "      <th>Age</th>\n",
       "      <th>Tenure</th>\n",
       "      <th>Balance</th>\n",
       "      <th>NumOfProducts</th>\n",
       "      <th>HasCrCard</th>\n",
       "      <th>IsActiveMember</th>\n",
       "      <th>EstimatedSalary</th>\n",
       "      <th>Exited</th>\n",
       "    </tr>\n",
       "  </thead>\n",
       "  <tbody>\n",
       "    <tr>\n",
       "      <th>count</th>\n",
       "      <td>10000.00000</td>\n",
       "      <td>1.000000e+04</td>\n",
       "      <td>10000.000000</td>\n",
       "      <td>10000.000000</td>\n",
       "      <td>10000.000000</td>\n",
       "      <td>10000.000000</td>\n",
       "      <td>10000.000000</td>\n",
       "      <td>10000.00000</td>\n",
       "      <td>10000.000000</td>\n",
       "      <td>10000.000000</td>\n",
       "      <td>10000.000000</td>\n",
       "    </tr>\n",
       "    <tr>\n",
       "      <th>mean</th>\n",
       "      <td>5000.50000</td>\n",
       "      <td>1.569094e+07</td>\n",
       "      <td>650.528800</td>\n",
       "      <td>38.921800</td>\n",
       "      <td>5.012800</td>\n",
       "      <td>76485.889288</td>\n",
       "      <td>1.530200</td>\n",
       "      <td>0.70550</td>\n",
       "      <td>0.515100</td>\n",
       "      <td>100090.239881</td>\n",
       "      <td>0.203700</td>\n",
       "    </tr>\n",
       "    <tr>\n",
       "      <th>std</th>\n",
       "      <td>2886.89568</td>\n",
       "      <td>7.193619e+04</td>\n",
       "      <td>96.653299</td>\n",
       "      <td>10.487806</td>\n",
       "      <td>2.892174</td>\n",
       "      <td>62397.405202</td>\n",
       "      <td>0.581654</td>\n",
       "      <td>0.45584</td>\n",
       "      <td>0.499797</td>\n",
       "      <td>57510.492818</td>\n",
       "      <td>0.402769</td>\n",
       "    </tr>\n",
       "    <tr>\n",
       "      <th>min</th>\n",
       "      <td>1.00000</td>\n",
       "      <td>1.556570e+07</td>\n",
       "      <td>350.000000</td>\n",
       "      <td>18.000000</td>\n",
       "      <td>0.000000</td>\n",
       "      <td>0.000000</td>\n",
       "      <td>1.000000</td>\n",
       "      <td>0.00000</td>\n",
       "      <td>0.000000</td>\n",
       "      <td>11.580000</td>\n",
       "      <td>0.000000</td>\n",
       "    </tr>\n",
       "    <tr>\n",
       "      <th>25%</th>\n",
       "      <td>2500.75000</td>\n",
       "      <td>1.562853e+07</td>\n",
       "      <td>584.000000</td>\n",
       "      <td>32.000000</td>\n",
       "      <td>3.000000</td>\n",
       "      <td>0.000000</td>\n",
       "      <td>1.000000</td>\n",
       "      <td>0.00000</td>\n",
       "      <td>0.000000</td>\n",
       "      <td>51002.110000</td>\n",
       "      <td>0.000000</td>\n",
       "    </tr>\n",
       "    <tr>\n",
       "      <th>50%</th>\n",
       "      <td>5000.50000</td>\n",
       "      <td>1.569074e+07</td>\n",
       "      <td>652.000000</td>\n",
       "      <td>37.000000</td>\n",
       "      <td>5.000000</td>\n",
       "      <td>97198.540000</td>\n",
       "      <td>1.000000</td>\n",
       "      <td>1.00000</td>\n",
       "      <td>1.000000</td>\n",
       "      <td>100193.915000</td>\n",
       "      <td>0.000000</td>\n",
       "    </tr>\n",
       "    <tr>\n",
       "      <th>75%</th>\n",
       "      <td>7500.25000</td>\n",
       "      <td>1.575323e+07</td>\n",
       "      <td>718.000000</td>\n",
       "      <td>44.000000</td>\n",
       "      <td>7.000000</td>\n",
       "      <td>127644.240000</td>\n",
       "      <td>2.000000</td>\n",
       "      <td>1.00000</td>\n",
       "      <td>1.000000</td>\n",
       "      <td>149388.247500</td>\n",
       "      <td>0.000000</td>\n",
       "    </tr>\n",
       "    <tr>\n",
       "      <th>max</th>\n",
       "      <td>10000.00000</td>\n",
       "      <td>1.581569e+07</td>\n",
       "      <td>850.000000</td>\n",
       "      <td>92.000000</td>\n",
       "      <td>10.000000</td>\n",
       "      <td>250898.090000</td>\n",
       "      <td>4.000000</td>\n",
       "      <td>1.00000</td>\n",
       "      <td>1.000000</td>\n",
       "      <td>199992.480000</td>\n",
       "      <td>1.000000</td>\n",
       "    </tr>\n",
       "  </tbody>\n",
       "</table>\n",
       "</div>"
      ],
      "text/plain": [
       "         RowNumber    CustomerId   CreditScore           Age        Tenure  \\\n",
       "count  10000.00000  1.000000e+04  10000.000000  10000.000000  10000.000000   \n",
       "mean    5000.50000  1.569094e+07    650.528800     38.921800      5.012800   \n",
       "std     2886.89568  7.193619e+04     96.653299     10.487806      2.892174   \n",
       "min        1.00000  1.556570e+07    350.000000     18.000000      0.000000   \n",
       "25%     2500.75000  1.562853e+07    584.000000     32.000000      3.000000   \n",
       "50%     5000.50000  1.569074e+07    652.000000     37.000000      5.000000   \n",
       "75%     7500.25000  1.575323e+07    718.000000     44.000000      7.000000   \n",
       "max    10000.00000  1.581569e+07    850.000000     92.000000     10.000000   \n",
       "\n",
       "             Balance  NumOfProducts    HasCrCard  IsActiveMember  \\\n",
       "count   10000.000000   10000.000000  10000.00000    10000.000000   \n",
       "mean    76485.889288       1.530200      0.70550        0.515100   \n",
       "std     62397.405202       0.581654      0.45584        0.499797   \n",
       "min         0.000000       1.000000      0.00000        0.000000   \n",
       "25%         0.000000       1.000000      0.00000        0.000000   \n",
       "50%     97198.540000       1.000000      1.00000        1.000000   \n",
       "75%    127644.240000       2.000000      1.00000        1.000000   \n",
       "max    250898.090000       4.000000      1.00000        1.000000   \n",
       "\n",
       "       EstimatedSalary        Exited  \n",
       "count     10000.000000  10000.000000  \n",
       "mean     100090.239881      0.203700  \n",
       "std       57510.492818      0.402769  \n",
       "min          11.580000      0.000000  \n",
       "25%       51002.110000      0.000000  \n",
       "50%      100193.915000      0.000000  \n",
       "75%      149388.247500      0.000000  \n",
       "max      199992.480000      1.000000  "
      ]
     },
     "execution_count": 4,
     "metadata": {},
     "output_type": "execute_result"
    }
   ],
   "source": [
    "df.describe()"
   ]
  },
  {
   "cell_type": "code",
   "execution_count": 5,
   "metadata": {},
   "outputs": [
    {
     "data": {
      "text/plain": [
       "(10000, 14)"
      ]
     },
     "execution_count": 5,
     "metadata": {},
     "output_type": "execute_result"
    }
   ],
   "source": [
    "df.shape"
   ]
  },
  {
   "cell_type": "code",
   "execution_count": 6,
   "metadata": {},
   "outputs": [
    {
     "data": {
      "text/plain": [
       "RowNumber          0\n",
       "CustomerId         0\n",
       "Surname            0\n",
       "CreditScore        0\n",
       "Geography          0\n",
       "Gender             0\n",
       "Age                0\n",
       "Tenure             0\n",
       "Balance            0\n",
       "NumOfProducts      0\n",
       "HasCrCard          0\n",
       "IsActiveMember     0\n",
       "EstimatedSalary    0\n",
       "Exited             0\n",
       "dtype: int64"
      ]
     },
     "execution_count": 6,
     "metadata": {},
     "output_type": "execute_result"
    }
   ],
   "source": [
    "df.isnull().sum()"
   ]
  },
  {
   "cell_type": "code",
   "execution_count": 9,
   "metadata": {},
   "outputs": [
    {
     "data": {
      "text/plain": [
       "<matplotlib.axes._subplots.AxesSubplot at 0x1b255d38a48>"
      ]
     },
     "execution_count": 9,
     "metadata": {},
     "output_type": "execute_result"
    },
    {
     "data": {
      "image/png": "[encoded data removed]",
      "text/plain": [
       "<Figure size 432x288 with 1 Axes>"
      ]
     },
     "metadata": {
      "needs_background": "light"
     },
     "output_type": "display_data"
    }
   ],
   "source": [
    "sns.countplot(df['Exited'],hue = df['Gender'],data = df)"
   ]
  },
  {
   "cell_type": "code",
   "execution_count": 10,
   "metadata": {},
   "outputs": [],
   "source": [
    "geography = pd.get_dummies(df['Geography'],drop_first = True)"
   ]
  },
  {
   "cell_type": "code",
   "execution_count": 11,
   "metadata": {},
   "outputs": [],
   "source": [
    "gender = pd.get_dummies(df['Gender'],drop_first = True)"
   ]
  },
  {
   "cell_type": "code",
   "execution_count": 12,
   "metadata": {},
   "outputs": [],
   "source": [
    "df.drop(df[[\"Geography\",\"Gender\"]],axis = 1 , inplace = True)"
   ]
  },
  {
   "cell_type": "code",
   "execution_count": 13,
   "metadata": {},
   "outputs": [
    {
     "data": {
      "text/html": [
       "<div>\n",
       "<style scoped>\n",
       "    .dataframe tbody tr th:only-of-type {\n",
       "        vertical-align: middle;\n",
       "    }\n",
       "\n",
       "    .dataframe tbody tr th {\n",
       "        vertical-align: top;\n",
       "    }\n",
       "\n",
       "    .dataframe thead th {\n",
       "        text-align: right;\n",
       "    }\n",
       "</style>\n",
       "<table border=\"1\" class=\"dataframe\">\n",
       "  <thead>\n",
       "    <tr style=\"text-align: right;\">\n",
       "      <th></th>\n",
       "      <th>RowNumber</th>\n",
       "      <th>CustomerId</th>\n",
       "      <th>Surname</th>\n",
       "      <th>CreditScore</th>\n",
       "      <th>Age</th>\n",
       "      <th>Tenure</th>\n",
       "      <th>Balance</th>\n",
       "      <th>NumOfProducts</th>\n",
       "      <th>HasCrCard</th>\n",
       "      <th>IsActiveMember</th>\n",
       "      <th>EstimatedSalary</th>\n",
       "      <th>Exited</th>\n",
       "    </tr>\n",
       "  </thead>\n",
       "  <tbody>\n",
       "    <tr>\n",
       "      <th>0</th>\n",
       "      <td>1</td>\n",
       "      <td>15634602</td>\n",
       "      <td>Hargrave</td>\n",
       "      <td>619</td>\n",
       "      <td>42</td>\n",
       "      <td>2</td>\n",
       "      <td>0.00</td>\n",
       "      <td>1</td>\n",
       "      <td>1</td>\n",
       "      <td>1</td>\n",
       "      <td>101348.88</td>\n",
       "      <td>1</td>\n",
       "    </tr>\n",
       "    <tr>\n",
       "      <th>1</th>\n",
       "      <td>2</td>\n",
       "      <td>15647311</td>\n",
       "      <td>Hill</td>\n",
       "      <td>608</td>\n",
       "      <td>41</td>\n",
       "      <td>1</td>\n",
       "      <td>83807.86</td>\n",
       "      <td>1</td>\n",
       "      <td>0</td>\n",
       "      <td>1</td>\n",
       "      <td>112542.58</td>\n",
       "      <td>0</td>\n",
       "    </tr>\n",
       "    <tr>\n",
       "      <th>2</th>\n",
       "      <td>3</td>\n",
       "      <td>15619304</td>\n",
       "      <td>Onio</td>\n",
       "      <td>502</td>\n",
       "      <td>42</td>\n",
       "      <td>8</td>\n",
       "      <td>159660.80</td>\n",
       "      <td>3</td>\n",
       "      <td>1</td>\n",
       "      <td>0</td>\n",
       "      <td>113931.57</td>\n",
       "      <td>1</td>\n",
       "    </tr>\n",
       "    <tr>\n",
       "      <th>3</th>\n",
       "      <td>4</td>\n",
       "      <td>15701354</td>\n",
       "      <td>Boni</td>\n",
       "      <td>699</td>\n",
       "      <td>39</td>\n",
       "      <td>1</td>\n",
       "      <td>0.00</td>\n",
       "      <td>2</td>\n",
       "      <td>0</td>\n",
       "      <td>0</td>\n",
       "      <td>93826.63</td>\n",
       "      <td>0</td>\n",
       "    </tr>\n",
       "    <tr>\n",
       "      <th>4</th>\n",
       "      <td>5</td>\n",
       "      <td>15737888</td>\n",
       "      <td>Mitchell</td>\n",
       "      <td>850</td>\n",
       "      <td>43</td>\n",
       "      <td>2</td>\n",
       "      <td>125510.82</td>\n",
       "      <td>1</td>\n",
       "      <td>1</td>\n",
       "      <td>1</td>\n",
       "      <td>79084.10</td>\n",
       "      <td>0</td>\n",
       "    </tr>\n",
       "  </tbody>\n",
       "</table>\n",
       "</div>"
      ],
      "text/plain": [
       "   RowNumber  CustomerId   Surname  CreditScore  Age  Tenure    Balance  \\\n",
       "0          1    15634602  Hargrave          619   42       2       0.00   \n",
       "1          2    15647311      Hill          608   41       1   83807.86   \n",
       "2          3    15619304      Onio          502   42       8  159660.80   \n",
       "3          4    15701354      Boni          699   39       1       0.00   \n",
       "4          5    15737888  Mitchell          850   43       2  125510.82   \n",
       "\n",
       "   NumOfProducts  HasCrCard  IsActiveMember  EstimatedSalary  Exited  \n",
       "0              1          1               1        101348.88       1  \n",
       "1              1          0               1        112542.58       0  \n",
       "2              3          1               0        113931.57       1  \n",
       "3              2          0               0         93826.63       0  \n",
       "4              1          1               1         79084.10       0  "
      ]
     },
     "execution_count": 13,
     "metadata": {},
     "output_type": "execute_result"
    }
   ],
   "source": [
    "df.head()"
   ]
  },
  {
   "cell_type": "code",
   "execution_count": 22,
   "metadata": {},
   "outputs": [],
   "source": [
    "dataset = pd.concat([df,geography,gender],axis = 1)"
   ]
  },
  {
   "cell_type": "code",
   "execution_count": 23,
   "metadata": {},
   "outputs": [
    {
     "data": {
      "text/html": [
       "<div>\n",
       "<style scoped>\n",
       "    .dataframe tbody tr th:only-of-type {\n",
       "        vertical-align: middle;\n",
       "    }\n",
       "\n",
       "    .dataframe tbody tr th {\n",
       "        vertical-align: top;\n",
       "    }\n",
       "\n",
       "    .dataframe thead th {\n",
       "        text-align: right;\n",
       "    }\n",
       "</style>\n",
       "<table border=\"1\" class=\"dataframe\">\n",
       "  <thead>\n",
       "    <tr style=\"text-align: right;\">\n",
       "      <th></th>\n",
       "      <th>RowNumber</th>\n",
       "      <th>CustomerId</th>\n",
       "      <th>Surname</th>\n",
       "      <th>CreditScore</th>\n",
       "      <th>Age</th>\n",
       "      <th>Tenure</th>\n",
       "      <th>Balance</th>\n",
       "      <th>NumOfProducts</th>\n",
       "      <th>HasCrCard</th>\n",
       "      <th>IsActiveMember</th>\n",
       "      <th>EstimatedSalary</th>\n",
       "      <th>Exited</th>\n",
       "      <th>Germany</th>\n",
       "      <th>Spain</th>\n",
       "      <th>Male</th>\n",
       "    </tr>\n",
       "  </thead>\n",
       "  <tbody>\n",
       "    <tr>\n",
       "      <th>0</th>\n",
       "      <td>1</td>\n",
       "      <td>15634602</td>\n",
       "      <td>Hargrave</td>\n",
       "      <td>619</td>\n",
       "      <td>42</td>\n",
       "      <td>2</td>\n",
       "      <td>0.00</td>\n",
       "      <td>1</td>\n",
       "      <td>1</td>\n",
       "      <td>1</td>\n",
       "      <td>101348.88</td>\n",
       "      <td>1</td>\n",
       "      <td>0</td>\n",
       "      <td>0</td>\n",
       "      <td>0</td>\n",
       "    </tr>\n",
       "    <tr>\n",
       "      <th>1</th>\n",
       "      <td>2</td>\n",
       "      <td>15647311</td>\n",
       "      <td>Hill</td>\n",
       "      <td>608</td>\n",
       "      <td>41</td>\n",
       "      <td>1</td>\n",
       "      <td>83807.86</td>\n",
       "      <td>1</td>\n",
       "      <td>0</td>\n",
       "      <td>1</td>\n",
       "      <td>112542.58</td>\n",
       "      <td>0</td>\n",
       "      <td>0</td>\n",
       "      <td>1</td>\n",
       "      <td>0</td>\n",
       "    </tr>\n",
       "    <tr>\n",
       "      <th>2</th>\n",
       "      <td>3</td>\n",
       "      <td>15619304</td>\n",
       "      <td>Onio</td>\n",
       "      <td>502</td>\n",
       "      <td>42</td>\n",
       "      <td>8</td>\n",
       "      <td>159660.80</td>\n",
       "      <td>3</td>\n",
       "      <td>1</td>\n",
       "      <td>0</td>\n",
       "      <td>113931.57</td>\n",
       "      <td>1</td>\n",
       "      <td>0</td>\n",
       "      <td>0</td>\n",
       "      <td>0</td>\n",
       "    </tr>\n",
       "    <tr>\n",
       "      <th>3</th>\n",
       "      <td>4</td>\n",
       "      <td>15701354</td>\n",
       "      <td>Boni</td>\n",
       "      <td>699</td>\n",
       "      <td>39</td>\n",
       "      <td>1</td>\n",
       "      <td>0.00</td>\n",
       "      <td>2</td>\n",
       "      <td>0</td>\n",
       "      <td>0</td>\n",
       "      <td>93826.63</td>\n",
       "      <td>0</td>\n",
       "      <td>0</td>\n",
       "      <td>0</td>\n",
       "      <td>0</td>\n",
       "    </tr>\n",
       "    <tr>\n",
       "      <th>4</th>\n",
       "      <td>5</td>\n",
       "      <td>15737888</td>\n",
       "      <td>Mitchell</td>\n",
       "      <td>850</td>\n",
       "      <td>43</td>\n",
       "      <td>2</td>\n",
       "      <td>125510.82</td>\n",
       "      <td>1</td>\n",
       "      <td>1</td>\n",
       "      <td>1</td>\n",
       "      <td>79084.10</td>\n",
       "      <td>0</td>\n",
       "      <td>0</td>\n",
       "      <td>1</td>\n",
       "      <td>0</td>\n",
       "    </tr>\n",
       "  </tbody>\n",
       "</table>\n",
       "</div>"
      ],
      "text/plain": [
       "   RowNumber  CustomerId   Surname  CreditScore  Age  Tenure    Balance  \\\n",
       "0          1    15634602  Hargrave          619   42       2       0.00   \n",
       "1          2    15647311      Hill          608   41       1   83807.86   \n",
       "2          3    15619304      Onio          502   42       8  159660.80   \n",
       "3          4    15701354      Boni          699   39       1       0.00   \n",
       "4          5    15737888  Mitchell          850   43       2  125510.82   \n",
       "\n",
       "   NumOfProducts  HasCrCard  IsActiveMember  EstimatedSalary  Exited  Germany  \\\n",
       "0              1          1               1        101348.88       1        0   \n",
       "1              1          0               1        112542.58       0        0   \n",
       "2              3          1               0        113931.57       1        0   \n",
       "3              2          0               0         93826.63       0        0   \n",
       "4              1          1               1         79084.10       0        0   \n",
       "\n",
       "   Spain  Male  \n",
       "0      0     0  \n",
       "1      1     0  \n",
       "2      0     0  \n",
       "3      0     0  \n",
       "4      1     0  "
      ]
     },
     "execution_count": 23,
     "metadata": {},
     "output_type": "execute_result"
    }
   ],
   "source": [
    "dataset.head()"
   ]
  },
  {
   "cell_type": "code",
   "execution_count": 24,
   "metadata": {},
   "outputs": [],
   "source": [
    "X = dataset[['CreditScore','Age','Tenure','Balance','NumOfProducts','HasCrCard','IsActiveMember','EstimatedSalary','Germany','Spain','Male']]"
   ]
  },
  {
   "cell_type": "code",
   "execution_count": 25,
   "metadata": {},
   "outputs": [],
   "source": [
    "y = dataset['Exited']"
   ]
  },
  {
   "cell_type": "code",
   "execution_count": 26,
   "metadata": {},
   "outputs": [],
   "source": [
    "from sklearn.model_selection import train_test_split"
   ]
  },
  {
   "cell_type": "code",
   "execution_count": 27,
   "metadata": {},
   "outputs": [],
   "source": [
    "X_train , X_test , y_train , y_test = train_test_split(X,y,test_size = 0.25 , random_state = 0)"
   ]
  },
  {
   "cell_type": "code",
   "execution_count": 31,
   "metadata": {},
   "outputs": [],
   "source": [
    "from sklearn.preprocessing import StandardScaler"
   ]
  },
  {
   "cell_type": "code",
   "execution_count": 32,
   "metadata": {},
   "outputs": [],
   "source": [
    "sc = StandardScaler()"
   ]
  },
  {
   "cell_type": "code",
   "execution_count": 33,
   "metadata": {},
   "outputs": [],
   "source": [
    "X_train = sc.fit_transform(X_train)"
   ]
  },
  {
   "cell_type": "code",
   "execution_count": 34,
   "metadata": {},
   "outputs": [],
   "source": [
    "X_test  = sc.transform(X_test)"
   ]
  },
  {
   "cell_type": "code",
   "execution_count": 35,
   "metadata": {},
   "outputs": [
    {
     "data": {
      "text/plain": [
       "array([[-0.73550706,  0.01526571,  0.00886037, ...,  1.76021608,\n",
       "        -0.57468161, -1.08726059],\n",
       "       [ 1.02442719, -0.65260917,  0.00886037, ..., -0.56811207,\n",
       "        -0.57468161, -1.08726059],\n",
       "       [ 0.80829492, -0.46178778,  1.39329338, ..., -0.56811207,\n",
       "         1.74009395, -1.08726059],\n",
       "       ...,\n",
       "       [ 0.90092304, -0.36637708,  0.00886037, ..., -0.56811207,\n",
       "        -0.57468161,  0.91974271],\n",
       "       [-0.62229491, -0.08014499,  1.39329338, ..., -0.56811207,\n",
       "         1.74009395, -1.08726059],\n",
       "       [-0.28265848,  0.87396199, -1.37557264, ...,  1.76021608,\n",
       "        -0.57468161, -1.08726059]])"
      ]
     },
     "execution_count": 35,
     "metadata": {},
     "output_type": "execute_result"
    }
   ],
   "source": [
    "X_train"
   ]
  },
  {
   "cell_type": "code",
   "execution_count": 36,
   "metadata": {},
   "outputs": [
    {
     "data": {
      "text/plain": [
       "array([[-0.55025082, -0.36637708,  1.04718513, ...,  1.76021608,\n",
       "        -0.57468161, -1.08726059],\n",
       "       [-1.31185979,  0.11067641, -1.02946438, ..., -0.56811207,\n",
       "        -0.57468161, -1.08726059],\n",
       "       [ 0.57157862,  0.3014978 ,  1.04718513, ..., -0.56811207,\n",
       "         1.74009395, -1.08726059],\n",
       "       ...,\n",
       "       [ 1.95070838,  0.01526571, -1.37557264, ..., -0.56811207,\n",
       "        -0.57468161, -1.08726059],\n",
       "       [ 0.29369426, -0.08014499,  0.70107688, ...,  1.76021608,\n",
       "        -0.57468161,  0.91974271],\n",
       "       [ 0.870047  , -0.74801987, -0.68335613, ..., -0.56811207,\n",
       "        -0.57468161,  0.91974271]])"
      ]
     },
     "execution_count": 36,
     "metadata": {},
     "output_type": "execute_result"
    }
   ],
   "source": [
    "X_test"
   ]
  },
  {
   "cell_type": "code",
   "execution_count": 37,
   "metadata": {},
   "outputs": [],
   "source": [
    "from sklearn.linear_model import LogisticRegression"
   ]
  },
  {
   "cell_type": "code",
   "execution_count": 38,
   "metadata": {},
   "outputs": [],
   "source": [
    "lr = LogisticRegression()"
   ]
  },
  {
   "cell_type": "code",
   "execution_count": 39,
   "metadata": {},
   "outputs": [
    {
     "data": {
      "text/plain": [
       "LogisticRegression(C=1.0, class_weight=None, dual=False, fit_intercept=True,\n",
       "                   intercept_scaling=1, l1_ratio=None, max_iter=100,\n",
       "                   multi_class='auto', n_jobs=None, penalty='l2',\n",
       "                   random_state=None, solver='lbfgs', tol=0.0001, verbose=0,\n",
       "                   warm_start=False)"
      ]
     },
     "execution_count": 39,
     "metadata": {},
     "output_type": "execute_result"
    }
   ],
   "source": [
    "lr.fit(X_train,y_train)"
   ]
  },
  {
   "cell_type": "code",
   "execution_count": 40,
   "metadata": {},
   "outputs": [],
   "source": [
    "y_predict = lr.predict(X_test)"
   ]
  },
  {
   "cell_type": "code",
   "execution_count": 41,
   "metadata": {},
   "outputs": [],
   "source": [
    "from sklearn.metrics import accuracy_score"
   ]
  },
  {
   "cell_type": "code",
   "execution_count": 45,
   "metadata": {},
   "outputs": [
    {
     "data": {
      "text/plain": [
       "0.8068"
      ]
     },
     "execution_count": 45,
     "metadata": {},
     "output_type": "execute_result"
    }
   ],
   "source": [
    "accuracy_score(y_test,y_predict)"
   ]
  },
  {
   "cell_type": "code",
   "execution_count": 46,
   "metadata": {},
   "outputs": [],
   "source": [
    "from sklearn.metrics import confusion_matrix"
   ]
  },
  {
   "cell_type": "code",
   "execution_count": 47,
   "metadata": {},
   "outputs": [
    {
     "data": {
      "text/plain": [
       "array([[1901,   90],\n",
       "       [ 393,  116]], dtype=int64)"
      ]
     },
     "execution_count": 47,
     "metadata": {},
     "output_type": "execute_result"
    }
   ],
   "source": [
    "confusion_matrix(y_test,y_predict)"
   ]
  },
  {
   "cell_type": "code",
   "execution_count": 50,
   "metadata": {},
   "outputs": [],
   "source": [
    "from sklearn.tree import DecisionTreeClassifier"
   ]
  },
  {
   "cell_type": "code",
   "execution_count": 51,
   "metadata": {},
   "outputs": [],
   "source": [
    "DT = DecisionTreeClassifier(criterion = 'entropy')"
   ]
  },
  {
   "cell_type": "code",
   "execution_count": 52,
   "metadata": {},
   "outputs": [
    {
     "data": {
      "text/plain": [
       "DecisionTreeClassifier(ccp_alpha=0.0, class_weight=None, criterion='entropy',\n",
       "                       max_depth=None, max_features=None, max_leaf_nodes=None,\n",
       "                       min_impurity_decrease=0.0, min_impurity_split=None,\n",
       "                       min_samples_leaf=1, min_samples_split=2,\n",
       "                       min_weight_fraction_leaf=0.0, presort='deprecated',\n",
       "                       random_state=None, splitter='best')"
      ]
     },
     "execution_count": 52,
     "metadata": {},
     "output_type": "execute_result"
    }
   ],
   "source": [
    "DT.fit(X_train,y_train)"
   ]
  },
  {
   "cell_type": "code",
   "execution_count": 53,
   "metadata": {},
   "outputs": [],
   "source": [
    "DT_predict = DT.predict(X_test)"
   ]
  },
  {
   "cell_type": "code",
   "execution_count": 54,
   "metadata": {},
   "outputs": [
    {
     "data": {
      "text/plain": [
       "0.7952"
      ]
     },
     "execution_count": 54,
     "metadata": {},
     "output_type": "execute_result"
    }
   ],
   "source": [
    "accuracy_score(y_test,DT_predict)"
   ]
  },
  {
   "cell_type": "code",
   "execution_count": 55,
   "metadata": {},
   "outputs": [
    {
     "name": "stderr",
     "output_type": "stream",
     "text": [
      "Using TensorFlow backend.\n",
      "C:\\Users\\AASHU\\anaconda3\\lib\\site-packages\\tensorflow\\python\\framework\\dtypes.py:526: FutureWarning: Passing (type, 1) or '1type' as a synonym of type is deprecated; in a future version of numpy, it will be understood as (type, (1,)) / '(1,)type'.\n",
      "  _np_qint8 = np.dtype([(\"qint8\", np.int8, 1)])\n",
      "C:\\Users\\AASHU\\anaconda3\\lib\\site-packages\\tensorflow\\python\\framework\\dtypes.py:527: FutureWarning: Passing (type, 1) or '1type' as a synonym of type is deprecated; in a future version of numpy, it will be understood as (type, (1,)) / '(1,)type'.\n",
      "  _np_quint8 = np.dtype([(\"quint8\", np.uint8, 1)])\n",
      "C:\\Users\\AASHU\\anaconda3\\lib\\site-packages\\tensorflow\\python\\framework\\dtypes.py:528: FutureWarning: Passing (type, 1) or '1type' as a synonym of type is deprecated; in a future version of numpy, it will be understood as (type, (1,)) / '(1,)type'.\n",
      "  _np_qint16 = np.dtype([(\"qint16\", np.int16, 1)])\n",
      "C:\\Users\\AASHU\\anaconda3\\lib\\site-packages\\tensorflow\\python\\framework\\dtypes.py:529: FutureWarning: Passing (type, 1) or '1type' as a synonym of type is deprecated; in a future version of numpy, it will be understood as (type, (1,)) / '(1,)type'.\n",
      "  _np_quint16 = np.dtype([(\"quint16\", np.uint16, 1)])\n",
      "C:\\Users\\AASHU\\anaconda3\\lib\\site-packages\\tensorflow\\python\\framework\\dtypes.py:530: FutureWarning: Passing (type, 1) or '1type' as a synonym of type is deprecated; in a future version of numpy, it will be understood as (type, (1,)) / '(1,)type'.\n",
      "  _np_qint32 = np.dtype([(\"qint32\", np.int32, 1)])\n",
      "C:\\Users\\AASHU\\anaconda3\\lib\\site-packages\\tensorflow\\python\\framework\\dtypes.py:535: FutureWarning: Passing (type, 1) or '1type' as a synonym of type is deprecated; in a future version of numpy, it will be understood as (type, (1,)) / '(1,)type'.\n",
      "  np_resource = np.dtype([(\"resource\", np.ubyte, 1)])\n"
     ]
    }
   ],
   "source": [
    "import keras"
   ]
  },
  {
   "cell_type": "code",
   "execution_count": 56,
   "metadata": {},
   "outputs": [],
   "source": [
    "from keras.layers import Dense"
   ]
  },
  {
   "cell_type": "code",
   "execution_count": 58,
   "metadata": {},
   "outputs": [],
   "source": [
    "from keras.models import Sequential"
   ]
  },
  {
   "cell_type": "code",
   "execution_count": 59,
   "metadata": {},
   "outputs": [],
   "source": [
    "from keras.layers import Dropout"
   ]
  },
  {
   "cell_type": "code",
   "execution_count": 60,
   "metadata": {},
   "outputs": [],
   "source": [
    "from keras.layers import LeakyReLU , ELU "
   ]
  },
  {
   "cell_type": "code",
   "execution_count": 62,
   "metadata": {},
   "outputs": [],
   "source": [
    "classifier = Sequential()"
   ]
  },
  {
   "cell_type": "code",
   "execution_count": 83,
   "metadata": {},
   "outputs": [],
   "source": [
    "classifier.add(Dense(units = 6 , kernel_initializer = 'he_uniform',activation = 'relu',input_dim = 11))"
   ]
  },
  {
   "cell_type": "code",
   "execution_count": 84,
   "metadata": {},
   "outputs": [],
   "source": [
    "classifier.add(Dense(units = 6 , kernel_initializer = 'he_uniform',activation = 'relu'))"
   ]
  },
  {
   "cell_type": "code",
   "execution_count": 86,
   "metadata": {},
   "outputs": [],
   "source": [
    "classifier.add(Dense(units = 1 , kernel_initializer = 'glorot_uniform',activation = 'sigmoid'))"
   ]
  },
  {
   "cell_type": "code",
   "execution_count": 87,
   "metadata": {},
   "outputs": [],
   "source": [
    "classifier.compile(optimizer = 'adam',loss = 'binary_crossentropy' , metrics = ['accuracy'])"
   ]
  },
  {
   "cell_type": "code",
   "execution_count": 88,
   "metadata": {},
   "outputs": [
    {
     "name": "stdout",
     "output_type": "stream",
     "text": [
      "Train on 4875 samples, validate on 2625 samples\n",
      "Epoch 1/100\n",
      "4875/4875 [==============================] - 3s 686us/step - loss: 0.5797 - accuracy: 0.7785 - val_loss: 0.5081 - val_accuracy: 0.7958\n",
      "Epoch 2/100\n",
      "4875/4875 [==============================] - 2s 415us/step - loss: 0.5057 - accuracy: 0.7965 - val_loss: 0.5062 - val_accuracy: 0.7958\n",
      "Epoch 3/100\n",
      "4875/4875 [==============================] - 2s 393us/step - loss: 0.5055 - accuracy: 0.7965 - val_loss: 0.5062 - val_accuracy: 0.7958\n",
      "Epoch 4/100\n",
      "4875/4875 [==============================] - 2s 419us/step - loss: 0.5055 - accuracy: 0.7965 - val_loss: 0.5062 - val_accuracy: 0.7958\n",
      "Epoch 5/100\n",
      "4875/4875 [==============================] - 2s 394us/step - loss: 0.5055 - accuracy: 0.7965 - val_loss: 0.5064 - val_accuracy: 0.7958\n",
      "Epoch 6/100\n",
      "4875/4875 [==============================] - 2s 392us/step - loss: 0.5056 - accuracy: 0.7965 - val_loss: 0.5062 - val_accuracy: 0.7958\n",
      "Epoch 7/100\n",
      "4875/4875 [==============================] - 2s 392us/step - loss: 0.5053 - accuracy: 0.7965 - val_loss: 0.5062 - val_accuracy: 0.7958\n",
      "Epoch 8/100\n",
      "4875/4875 [==============================] - 2s 391us/step - loss: 0.5055 - accuracy: 0.7965 - val_loss: 0.5062 - val_accuracy: 0.7958\n",
      "Epoch 9/100\n",
      "4875/4875 [==============================] - 2s 393us/step - loss: 0.5055 - accuracy: 0.7965 - val_loss: 0.5062 - val_accuracy: 0.7958\n",
      "Epoch 10/100\n",
      "4875/4875 [==============================] - 2s 406us/step - loss: 0.5056 - accuracy: 0.7965 - val_loss: 0.5062 - val_accuracy: 0.7958\n",
      "Epoch 11/100\n",
      "4875/4875 [==============================] - 2s 407us/step - loss: 0.5054 - accuracy: 0.7965 - val_loss: 0.5062 - val_accuracy: 0.7958\n",
      "Epoch 12/100\n",
      "4875/4875 [==============================] - 2s 408us/step - loss: 0.5054 - accuracy: 0.7965 - val_loss: 0.5065 - val_accuracy: 0.7958\n",
      "Epoch 13/100\n",
      "4875/4875 [==============================] - 2s 396us/step - loss: 0.5056 - accuracy: 0.7965 - val_loss: 0.5062 - val_accuracy: 0.7958\n",
      "Epoch 14/100\n",
      "4875/4875 [==============================] - 2s 407us/step - loss: 0.5054 - accuracy: 0.7965 - val_loss: 0.5062 - val_accuracy: 0.7958\n",
      "Epoch 15/100\n",
      "4875/4875 [==============================] - 2s 406us/step - loss: 0.5053 - accuracy: 0.7965 - val_loss: 0.5062 - val_accuracy: 0.7958\n",
      "Epoch 16/100\n",
      "4875/4875 [==============================] - 2s 385us/step - loss: 0.5056 - accuracy: 0.7965 - val_loss: 0.5062 - val_accuracy: 0.7958\n",
      "Epoch 17/100\n",
      "4875/4875 [==============================] - 2s 384us/step - loss: 0.5054 - accuracy: 0.7965 - val_loss: 0.5062 - val_accuracy: 0.7958\n",
      "Epoch 18/100\n",
      "4875/4875 [==============================] - 2s 386us/step - loss: 0.5054 - accuracy: 0.7965 - val_loss: 0.5063 - val_accuracy: 0.7958\n",
      "Epoch 19/100\n",
      "4875/4875 [==============================] - 2s 388us/step - loss: 0.5055 - accuracy: 0.7965 - val_loss: 0.5062 - val_accuracy: 0.7958\n",
      "Epoch 20/100\n",
      "4875/4875 [==============================] - 2s 389us/step - loss: 0.5056 - accuracy: 0.7965 - val_loss: 0.5062 - val_accuracy: 0.7958\n",
      "Epoch 21/100\n",
      "4875/4875 [==============================] - 2s 385us/step - loss: 0.5055 - accuracy: 0.7965 - val_loss: 0.5062 - val_accuracy: 0.7958\n",
      "Epoch 22/100\n",
      "4875/4875 [==============================] - 2s 375us/step - loss: 0.5052 - accuracy: 0.7965 - val_loss: 0.5064 - val_accuracy: 0.7958\n",
      "Epoch 23/100\n",
      "4875/4875 [==============================] - 2s 397us/step - loss: 0.5055 - accuracy: 0.7965 - val_loss: 0.5062 - val_accuracy: 0.7958\n",
      "Epoch 24/100\n",
      "4875/4875 [==============================] - 2s 400us/step - loss: 0.5054 - accuracy: 0.7965 - val_loss: 0.5062 - val_accuracy: 0.7958\n",
      "Epoch 25/100\n",
      "4875/4875 [==============================] - 2s 398us/step - loss: 0.5053 - accuracy: 0.7965 - val_loss: 0.5068 - val_accuracy: 0.7958\n",
      "Epoch 26/100\n",
      "4875/4875 [==============================] - 2s 404us/step - loss: 0.5055 - accuracy: 0.7965 - val_loss: 0.5062 - val_accuracy: 0.7958\n",
      "Epoch 27/100\n",
      "4875/4875 [==============================] - 2s 403us/step - loss: 0.5055 - accuracy: 0.7965 - val_loss: 0.5062 - val_accuracy: 0.7958\n",
      "Epoch 28/100\n",
      "4875/4875 [==============================] - 2s 400us/step - loss: 0.5053 - accuracy: 0.7965 - val_loss: 0.5063 - val_accuracy: 0.7958\n",
      "Epoch 29/100\n",
      "4875/4875 [==============================] - 2s 420us/step - loss: 0.5055 - accuracy: 0.7965 - val_loss: 0.5062 - val_accuracy: 0.7958\n",
      "Epoch 30/100\n",
      "4875/4875 [==============================] - 2s 396us/step - loss: 0.5056 - accuracy: 0.7965 - val_loss: 0.5062 - val_accuracy: 0.7958\n",
      "Epoch 31/100\n",
      "4875/4875 [==============================] - 2s 396us/step - loss: 0.5054 - accuracy: 0.7965 - val_loss: 0.5063 - val_accuracy: 0.7958\n",
      "Epoch 32/100\n",
      "4875/4875 [==============================] - 2s 415us/step - loss: 0.5057 - accuracy: 0.7965 - val_loss: 0.5062 - val_accuracy: 0.7958\n",
      "Epoch 33/100\n",
      "4875/4875 [==============================] - 2s 408us/step - loss: 0.5055 - accuracy: 0.7965 - val_loss: 0.5062 - val_accuracy: 0.7958\n",
      "Epoch 34/100\n",
      "4875/4875 [==============================] - 2s 399us/step - loss: 0.5056 - accuracy: 0.7965 - val_loss: 0.5062 - val_accuracy: 0.7958\n",
      "Epoch 35/100\n",
      "4875/4875 [==============================] - 2s 399us/step - loss: 0.5056 - accuracy: 0.7965 - val_loss: 0.5062 - val_accuracy: 0.7958\n",
      "Epoch 36/100\n",
      "4875/4875 [==============================] - 2s 380us/step - loss: 0.5055 - accuracy: 0.7965 - val_loss: 0.5062 - val_accuracy: 0.7958\n",
      "Epoch 37/100\n",
      "4875/4875 [==============================] - 2s 386us/step - loss: 0.5053 - accuracy: 0.7965 - val_loss: 0.5064 - val_accuracy: 0.7958\n",
      "Epoch 38/100\n",
      "4875/4875 [==============================] - 2s 381us/step - loss: 0.5056 - accuracy: 0.7965 - val_loss: 0.5063 - val_accuracy: 0.7958\n",
      "Epoch 39/100\n",
      "4875/4875 [==============================] - 2s 392us/step - loss: 0.5053 - accuracy: 0.7965 - val_loss: 0.5064 - val_accuracy: 0.7958\n",
      "Epoch 40/100\n",
      "4875/4875 [==============================] - 2s 408us/step - loss: 0.5055 - accuracy: 0.7965 - val_loss: 0.5062 - val_accuracy: 0.7958\n",
      "Epoch 41/100\n",
      "4875/4875 [==============================] - 2s 389us/step - loss: 0.5054 - accuracy: 0.7965 - val_loss: 0.5062 - val_accuracy: 0.7958\n",
      "Epoch 42/100\n",
      "4875/4875 [==============================] - 2s 384us/step - loss: 0.5055 - accuracy: 0.7965 - val_loss: 0.5062 - val_accuracy: 0.7958\n",
      "Epoch 43/100\n",
      "4875/4875 [==============================] - 2s 384us/step - loss: 0.5053 - accuracy: 0.7965 - val_loss: 0.5065 - val_accuracy: 0.7958\n",
      "Epoch 44/100\n",
      "4875/4875 [==============================] - 2s 388us/step - loss: 0.5056 - accuracy: 0.7965 - val_loss: 0.5062 - val_accuracy: 0.7958\n",
      "Epoch 45/100\n",
      "4875/4875 [==============================] - 2s 396us/step - loss: 0.5054 - accuracy: 0.7965 - val_loss: 0.5063 - val_accuracy: 0.7958\n",
      "Epoch 46/100\n",
      "4875/4875 [==============================] - 2s 397us/step - loss: 0.5055 - accuracy: 0.7965 - val_loss: 0.5062 - val_accuracy: 0.7958\n",
      "Epoch 47/100\n",
      "4875/4875 [==============================] - 3s 536us/step - loss: 0.5054 - accuracy: 0.7965 - val_loss: 0.5062 - val_accuracy: 0.7958\n",
      "Epoch 48/100\n",
      "4875/4875 [==============================] - 2s 435us/step - loss: 0.5055 - accuracy: 0.7965 - val_loss: 0.5064 - val_accuracy: 0.7958\n",
      "Epoch 49/100\n",
      "4875/4875 [==============================] - 2s 463us/step - loss: 0.5054 - accuracy: 0.7965 - val_loss: 0.5062 - val_accuracy: 0.7958\n",
      "Epoch 50/100\n",
      "4875/4875 [==============================] - 3s 523us/step - loss: 0.5053 - accuracy: 0.7965 - val_loss: 0.5063 - val_accuracy: 0.7958\n",
      "Epoch 51/100\n",
      "4875/4875 [==============================] - 2s 486us/step - loss: 0.5054 - accuracy: 0.7965 - val_loss: 0.5062 - val_accuracy: 0.7958\n",
      "Epoch 52/100\n",
      "4875/4875 [==============================] - 2s 472us/step - loss: 0.5054 - accuracy: 0.7965 - val_loss: 0.5062 - val_accuracy: 0.7958\n",
      "Epoch 53/100\n",
      "4875/4875 [==============================] - 3s 515us/step - loss: 0.5053 - accuracy: 0.7965 - val_loss: 0.5066 - val_accuracy: 0.7958\n",
      "Epoch 54/100\n",
      "4875/4875 [==============================] - 2s 464us/step - loss: 0.5055 - accuracy: 0.7965 - val_loss: 0.5062 - val_accuracy: 0.7958\n",
      "Epoch 55/100\n",
      "4875/4875 [==============================] - 2s 471us/step - loss: 0.5054 - accuracy: 0.7965 - val_loss: 0.5062 - val_accuracy: 0.7958\n",
      "Epoch 56/100\n"
     ]
    },
    {
     "name": "stdout",
     "output_type": "stream",
     "text": [
      "4875/4875 [==============================] - 2s 412us/step - loss: 0.5054 - accuracy: 0.7965 - val_loss: 0.5062 - val_accuracy: 0.7958\n",
      "Epoch 57/100\n",
      "4875/4875 [==============================] - 2s 415us/step - loss: 0.5053 - accuracy: 0.7965 - val_loss: 0.5063 - val_accuracy: 0.7958\n",
      "Epoch 58/100\n",
      "4875/4875 [==============================] - 2s 412us/step - loss: 0.5055 - accuracy: 0.7965 - val_loss: 0.5062 - val_accuracy: 0.7958\n",
      "Epoch 59/100\n",
      "4875/4875 [==============================] - 2s 416us/step - loss: 0.5055 - accuracy: 0.7965 - val_loss: 0.5062 - val_accuracy: 0.7958\n",
      "Epoch 60/100\n",
      "4875/4875 [==============================] - 2s 418us/step - loss: 0.5054 - accuracy: 0.7965 - val_loss: 0.5064 - val_accuracy: 0.7958\n",
      "Epoch 61/100\n",
      "4875/4875 [==============================] - 2s 418us/step - loss: 0.5056 - accuracy: 0.7965 - val_loss: 0.5062 - val_accuracy: 0.7958\n",
      "Epoch 62/100\n",
      "4875/4875 [==============================] - 2s 423us/step - loss: 0.5055 - accuracy: 0.7965 - val_loss: 0.5062 - val_accuracy: 0.7958\n",
      "Epoch 63/100\n",
      "4875/4875 [==============================] - 2s 415us/step - loss: 0.5054 - accuracy: 0.7965 - val_loss: 0.5063 - val_accuracy: 0.7958\n",
      "Epoch 64/100\n",
      "4875/4875 [==============================] - 2s 417us/step - loss: 0.5055 - accuracy: 0.7965 - val_loss: 0.5062 - val_accuracy: 0.7958\n",
      "Epoch 65/100\n",
      "4875/4875 [==============================] - 2s 420us/step - loss: 0.5054 - accuracy: 0.7965 - val_loss: 0.5063 - val_accuracy: 0.7958\n",
      "Epoch 66/100\n",
      "4875/4875 [==============================] - 2s 419us/step - loss: 0.5055 - accuracy: 0.7965 - val_loss: 0.5062 - val_accuracy: 0.7958\n",
      "Epoch 67/100\n",
      "4875/4875 [==============================] - 2s 418us/step - loss: 0.5055 - accuracy: 0.7965 - val_loss: 0.5062 - val_accuracy: 0.7958\n",
      "Epoch 68/100\n",
      "4875/4875 [==============================] - 2s 414us/step - loss: 0.5054 - accuracy: 0.7965 - val_loss: 0.5062 - val_accuracy: 0.7958\n",
      "Epoch 69/100\n",
      "4875/4875 [==============================] - 2s 414us/step - loss: 0.5054 - accuracy: 0.7965 - val_loss: 0.5063 - val_accuracy: 0.7958\n",
      "Epoch 70/100\n",
      "4875/4875 [==============================] - 2s 417us/step - loss: 0.5054 - accuracy: 0.7965 - val_loss: 0.5065 - val_accuracy: 0.7958\n",
      "Epoch 71/100\n",
      "4875/4875 [==============================] - 2s 421us/step - loss: 0.5054 - accuracy: 0.7965 - val_loss: 0.5064 - val_accuracy: 0.7958\n",
      "Epoch 72/100\n",
      "4875/4875 [==============================] - 2s 415us/step - loss: 0.5054 - accuracy: 0.7965 - val_loss: 0.5062 - val_accuracy: 0.7958\n",
      "Epoch 73/100\n",
      "4875/4875 [==============================] - 2s 427us/step - loss: 0.5053 - accuracy: 0.7965 - val_loss: 0.5065 - val_accuracy: 0.7958\n",
      "Epoch 74/100\n",
      "4875/4875 [==============================] - 2s 424us/step - loss: 0.5056 - accuracy: 0.7965 - val_loss: 0.5062 - val_accuracy: 0.7958\n",
      "Epoch 75/100\n",
      "4875/4875 [==============================] - 2s 418us/step - loss: 0.5051 - accuracy: 0.7965 - val_loss: 0.5067 - val_accuracy: 0.7958\n",
      "Epoch 76/100\n",
      "4875/4875 [==============================] - 2s 421us/step - loss: 0.5055 - accuracy: 0.7965 - val_loss: 0.5062 - val_accuracy: 0.7958\n",
      "Epoch 77/100\n",
      "4875/4875 [==============================] - 2s 434us/step - loss: 0.5055 - accuracy: 0.7965 - val_loss: 0.5062 - val_accuracy: 0.7958\n",
      "Epoch 78/100\n",
      "4875/4875 [==============================] - 2s 396us/step - loss: 0.5055 - accuracy: 0.7965 - val_loss: 0.5062 - val_accuracy: 0.7958\n",
      "Epoch 79/100\n",
      "4875/4875 [==============================] - 2s 395us/step - loss: 0.5053 - accuracy: 0.7965 - val_loss: 0.5063 - val_accuracy: 0.7958\n",
      "Epoch 80/100\n",
      "4875/4875 [==============================] - 2s 407us/step - loss: 0.5055 - accuracy: 0.7965 - val_loss: 0.5062 - val_accuracy: 0.7958\n",
      "Epoch 81/100\n",
      "4875/4875 [==============================] - 2s 463us/step - loss: 0.5054 - accuracy: 0.7965 - val_loss: 0.5063 - val_accuracy: 0.7958\n",
      "Epoch 82/100\n",
      "4875/4875 [==============================] - 2s 457us/step - loss: 0.5055 - accuracy: 0.7965 - val_loss: 0.5063 - val_accuracy: 0.7958\n",
      "Epoch 83/100\n",
      "4875/4875 [==============================] - 3s 555us/step - loss: 0.5056 - accuracy: 0.7965 - val_loss: 0.5062 - val_accuracy: 0.7958\n",
      "Epoch 84/100\n",
      "4875/4875 [==============================] - 3s 528us/step - loss: 0.5055 - accuracy: 0.7965 - val_loss: 0.5062 - val_accuracy: 0.7958\n",
      "Epoch 85/100\n",
      "4875/4875 [==============================] - 2s 434us/step - loss: 0.5055 - accuracy: 0.7965 - val_loss: 0.5062 - val_accuracy: 0.7958\n",
      "Epoch 86/100\n",
      "4875/4875 [==============================] - 2s 357us/step - loss: 0.5054 - accuracy: 0.7965 - val_loss: 0.5062 - val_accuracy: 0.7958\n",
      "Epoch 87/100\n",
      "4875/4875 [==============================] - 2s 332us/step - loss: 0.5053 - accuracy: 0.7965 - val_loss: 0.5064 - val_accuracy: 0.7958\n",
      "Epoch 88/100\n",
      "4875/4875 [==============================] - 1s 303us/step - loss: 0.5053 - accuracy: 0.7965 - val_loss: 0.5062 - val_accuracy: 0.7958\n",
      "Epoch 89/100\n",
      "4875/4875 [==============================] - 2s 422us/step - loss: 0.5056 - accuracy: 0.7965 - val_loss: 0.5062 - val_accuracy: 0.7958\n",
      "Epoch 90/100\n",
      "4875/4875 [==============================] - 2s 436us/step - loss: 0.5054 - accuracy: 0.7965 - val_loss: 0.5062 - val_accuracy: 0.7958\n",
      "Epoch 91/100\n",
      "4875/4875 [==============================] - 2s 464us/step - loss: 0.5055 - accuracy: 0.7965 - val_loss: 0.5062 - val_accuracy: 0.7958\n",
      "Epoch 92/100\n",
      "4875/4875 [==============================] - 2s 433us/step - loss: 0.5055 - accuracy: 0.7965 - val_loss: 0.5062 - val_accuracy: 0.7958\n",
      "Epoch 93/100\n",
      "4875/4875 [==============================] - 2s 376us/step - loss: 0.5055 - accuracy: 0.7965 - val_loss: 0.5062 - val_accuracy: 0.7958\n",
      "Epoch 94/100\n",
      "4875/4875 [==============================] - 1s 220us/step - loss: 0.5054 - accuracy: 0.7965 - val_loss: 0.5062 - val_accuracy: 0.7958\n",
      "Epoch 95/100\n",
      "4875/4875 [==============================] - 1s 212us/step - loss: 0.5055 - accuracy: 0.7965 - val_loss: 0.5062 - val_accuracy: 0.7958\n",
      "Epoch 96/100\n",
      "4875/4875 [==============================] - 1s 214us/step - loss: 0.5053 - accuracy: 0.7965 - val_loss: 0.5063 - val_accuracy: 0.7958\n",
      "Epoch 97/100\n",
      "4875/4875 [==============================] - 1s 213us/step - loss: 0.5055 - accuracy: 0.7965 - val_loss: 0.5062 - val_accuracy: 0.7958\n",
      "Epoch 98/100\n",
      "4875/4875 [==============================] - 1s 218us/step - loss: 0.5054 - accuracy: 0.7965 - val_loss: 0.5062 - val_accuracy: 0.7958\n",
      "Epoch 99/100\n",
      "4875/4875 [==============================] - 1s 223us/step - loss: 0.5054 - accuracy: 0.7965 - val_loss: 0.5062 - val_accuracy: 0.7958\n",
      "Epoch 100/100\n",
      "4875/4875 [==============================] - 1s 226us/step - loss: 0.5054 - accuracy: 0.7965 - val_loss: 0.5062 - val_accuracy: 0.7958\n"
     ]
    }
   ],
   "source": [
    "model_history = classifier.fit(X_train , y_train , validation_split = 0.35 , batch_size = 10 , epochs = 100)"
   ]
  },
  {
   "cell_type": "markdown",
   "metadata": {},
   "source": [
    "# I am loving this deep learning training "
   ]
  },
  {
   "cell_type": "code",
   "execution_count": null,
   "metadata": {},
   "outputs": [],
   "source": []
  }
 ],
 "metadata": {
  "kernelspec": {
   "display_name": "Python 3",
   "language": "python",
   "name": "python3"
  },
  "language_info": {
   "codemirror_mode": {
    "name": "ipython",
    "version": 3
   },
   "file_extension": ".py",
   "mimetype": "text/x-python",
   "name": "python",
   "nbconvert_exporter": "python",
   "pygments_lexer": "ipython3",
   "version": "3.7.6"
  }
 },
 "nbformat": 4,
 "nbformat_minor": 4
}
